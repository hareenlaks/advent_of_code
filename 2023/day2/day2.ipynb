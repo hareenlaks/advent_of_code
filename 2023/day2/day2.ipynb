{
 "cells": [
  {
   "cell_type": "code",
   "execution_count": 20,
   "id": "f495116a",
   "metadata": {},
   "outputs": [
    {
     "name": "stdout",
     "output_type": "stream",
     "text": [
      "Sum of all possible games : 2617\n"
     ]
    }
   ],
   "source": [
    "import re\n",
    "\n",
    "max_dict = {'blue':14, 'green':13, 'red':12}\n",
    "\n",
    "def check_max(tries):\n",
    "    for one_try in tries:\n",
    "        for x in one_try.split(','):\n",
    "            if int(x.split()[0]) > max_dict[x.split()[1]]: \n",
    "                return False\n",
    "    return True        \n",
    "\n",
    "def gameNumber(line):\n",
    "    game_number = 0\n",
    "    myList = re.split(':', line)\n",
    "    tries =  re.split(';', myList[1])\n",
    "    if(check_max(tries)):\n",
    "        game_number = [int(str1) for str1 in myList[0].split() if str1.isdigit()][0]\n",
    "    return game_number\n",
    "\n",
    "file_name = \"puzzle_input.txt\"\n",
    "file1 = open(file_name, 'r')\n",
    "sum_of_all = 0\n",
    "\n",
    "while True:\n",
    "    line = file1.readline()\n",
    "    \n",
    "    if not line:\n",
    "        break\n",
    "        \n",
    "    sum_of_all += gameNumber(line)\n",
    "    \n",
    "print(f\"Sum of all possible games : {sum_of_all}\") "
   ]
  },
  {
   "cell_type": "code",
   "execution_count": 28,
   "id": "04fdd6e6",
   "metadata": {},
   "outputs": [
    {
     "name": "stdout",
     "output_type": "stream",
     "text": [
      "Sum of all possible games : 59795\n"
     ]
    }
   ],
   "source": [
    "import re\n",
    "\n",
    "max_dict = {'blue':14, 'green':13, 'red':12}      \n",
    "\n",
    "def power(line):\n",
    "    myList = re.split(':', line)\n",
    "    tries =  re.split(';', myList[1])\n",
    "    power = 1\n",
    "    max_val = 0\n",
    "    for x in max_dict:\n",
    "        for one_try in tries:\n",
    "            for y in one_try.split(','):\n",
    "                if y.split()[1] == x and int(y.split()[0]) > max_val:\n",
    "                    max_val = int(y.split()[0])\n",
    "                   \n",
    "        power = power * max_val\n",
    "        max_val = 0\n",
    "    \n",
    "    return power\n",
    "    \n",
    "\n",
    "file_name = \"puzzle_input.txt\"\n",
    "file1 = open(file_name, 'r')\n",
    "sum_of_all = 0\n",
    "\n",
    "while True:\n",
    "    line = file1.readline()\n",
    "    \n",
    "    if not line:\n",
    "        break\n",
    "        \n",
    "    sum_of_all += power(line)\n",
    "    \n",
    "print(f\"Sum of all possible games : {sum_of_all}\") "
   ]
  },
  {
   "cell_type": "code",
   "execution_count": null,
   "id": "c9fce45d",
   "metadata": {},
   "outputs": [],
   "source": []
  }
 ],
 "metadata": {
  "kernelspec": {
   "display_name": "Python 3 (ipykernel)",
   "language": "python",
   "name": "python3"
  },
  "language_info": {
   "codemirror_mode": {
    "name": "ipython",
    "version": 3
   },
   "file_extension": ".py",
   "mimetype": "text/x-python",
   "name": "python",
   "nbconvert_exporter": "python",
   "pygments_lexer": "ipython3",
   "version": "3.11.5"
  }
 },
 "nbformat": 4,
 "nbformat_minor": 5
}
